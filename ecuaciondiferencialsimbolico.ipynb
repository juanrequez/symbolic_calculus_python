{
 "cells": [
  {
   "cell_type": "code",
   "execution_count": 1,
   "id": "b3277bab",
   "metadata": {},
   "outputs": [],
   "source": [
    "import sympy\n",
    "sympy.init_printing()"
   ]
  },
  {
   "cell_type": "markdown",
   "id": "50e01cb5",
   "metadata": {},
   "source": [
    "La ecuación diferencial que representa a este sistema mecánico está dada por\n",
    "\n",
    "\\begin{equation*}\n",
    "M\\frac{d^2 y}{dt^2}+B\\frac{dy}{dt}+Ky = 0\n",
    "\\end{equation*}"
   ]
  },
  {
   "cell_type": "code",
   "execution_count": 2,
   "id": "5687d5b5",
   "metadata": {},
   "outputs": [],
   "source": [
    "t=sympy.symbols(\"t\")\n",
    "M,B,K =sympy.symbols(\"M,B,K\",Positive=True)\n",
    "yini=sympy.Symbol('yini')"
   ]
  },
  {
   "cell_type": "code",
   "execution_count": 3,
   "id": "7549302b",
   "metadata": {},
   "outputs": [],
   "source": [
    "y=sympy.Function('y')"
   ]
  },
  {
   "cell_type": "code",
   "execution_count": 4,
   "id": "60a0e96b",
   "metadata": {},
   "outputs": [
    {
     "data": {
      "image/png": "[encoded data removed]",
      "text/latex": [
       "$\\displaystyle \\frac{d^{2}}{d t^{2}} y{\\left(t \\right)}$"
      ],
      "text/plain": [
       "  2      \n",
       " d       \n",
       "───(y(t))\n",
       "  2      \n",
       "dt       "
      ]
     },
     "execution_count": 4,
     "metadata": {},
     "output_type": "execute_result"
    }
   ],
   "source": [
    "y(t).diff(t,t)"
   ]
  },
  {
   "cell_type": "code",
   "execution_count": 5,
   "id": "3e3eeea6",
   "metadata": {},
   "outputs": [
    {
     "data": {
      "image/png": "[encoded data removed]",
      "text/latex": [
       "$\\displaystyle B \\frac{d}{d t} y{\\left(t \\right)} + K y{\\left(t \\right)} + M \\frac{d^{2}}{d t^{2}} y{\\left(t \\right)} = 0$"
      ],
      "text/plain": [
       "                          2          \n",
       "  d                      d           \n",
       "B⋅──(y(t)) + K⋅y(t) + M⋅───(y(t)) = 0\n",
       "  dt                      2          \n",
       "                        dt           "
      ]
     },
     "execution_count": 5,
     "metadata": {},
     "output_type": "execute_result"
    }
   ],
   "source": [
    "ecuacion=sympy.Eq(M*y(t).diff(t,t)+B*y(t).diff(t)+K*y(t),0)\n",
    "ecuacion"
   ]
  },
  {
   "cell_type": "code",
   "execution_count": 6,
   "id": "56efd2c3",
   "metadata": {
    "scrolled": true
   },
   "outputs": [
    {
     "data": {
      "image/png": "[encoded data removed]",
      "text/latex": [
       "$\\displaystyle y{\\left(t \\right)} = \\left(- \\frac{B yini}{2 \\sqrt{B^{2} - 4 K M}} + \\frac{yini}{2}\\right) e^{- \\frac{t \\left(B + \\sqrt{B^{2} - 4 K M}\\right)}{2 M}} + \\left(\\frac{B yini}{2 \\sqrt{B^{2} - 4 K M}} + \\frac{yini}{2}\\right) e^{\\frac{t \\left(- B + \\sqrt{B^{2} - 4 K M}\\right)}{2 M}}$"
      ],
      "text/plain": [
       "                                        ⎛       ____________⎞                 \n",
       "                                        ⎜      ╱  2         ⎟                 \n",
       "                                     -t⋅⎝B + ╲╱  B  - 4⋅K⋅M ⎠                 \n",
       "                                     ─────────────────────────                \n",
       "       ⎛        B⋅yini        yini⎞             2⋅M              ⎛      B⋅yini\n",
       "y(t) = ⎜- ───────────────── + ────⎟⋅ℯ                          + ⎜────────────\n",
       "       ⎜       ____________    2  ⎟                              ⎜     _______\n",
       "       ⎜      ╱  2                ⎟                              ⎜    ╱  2    \n",
       "       ⎝  2⋅╲╱  B  - 4⋅K⋅M        ⎠                              ⎝2⋅╲╱  B  - 4\n",
       "\n",
       "                 ⎛        ____________⎞\n",
       "                 ⎜       ╱  2         ⎟\n",
       "               t⋅⎝-B + ╲╱  B  - 4⋅K⋅M ⎠\n",
       "               ────────────────────────\n",
       "        yini⎞            2⋅M           \n",
       "───── + ────⎟⋅ℯ                        \n",
       "_____    2  ⎟                          \n",
       "            ⎟                          \n",
       "⋅K⋅M        ⎠                          "
      ]
     },
     "execution_count": 6,
     "metadata": {},
     "output_type": "execute_result"
    }
   ],
   "source": [
    "ysol=sympy.dsolve(ecuacion,y(t),ics={ y(0):yini , y(t).diff(t).subs(t,0):0 })\n",
    "ysol"
   ]
  },
  {
   "cell_type": "code",
   "execution_count": 7,
   "id": "9fba41ed",
   "metadata": {},
   "outputs": [
    {
     "data": {
      "text/latex": [
       "$\\displaystyle \\left. \\frac{d}{d t} y{\\left(t \\right)} \\right|_{\\substack{ t=0 }}$"
      ],
      "text/plain": [
       "⎛d       ⎞│   \n",
       "⎜──(y(t))⎟│   \n",
       "⎝dt      ⎠│t=0"
      ]
     },
     "execution_count": 7,
     "metadata": {},
     "output_type": "execute_result"
    }
   ],
   "source": [
    "#Recordar (observar) que\n",
    "y(t).diff(t).subs(t,0)"
   ]
  },
  {
   "cell_type": "code",
   "execution_count": null,
   "id": "e9d7c07b",
   "metadata": {},
   "outputs": [],
   "source": []
  }
 ],
 "metadata": {
  "kernelspec": {
   "display_name": "Python 3",
   "language": "python",
   "name": "python3"
  },
  "language_info": {
   "codemirror_mode": {
    "name": "ipython",
    "version": 3
   },
   "file_extension": ".py",
   "mimetype": "text/x-python",
   "name": "python",
   "nbconvert_exporter": "python",
   "pygments_lexer": "ipython3",
   "version": "3.9.5"
  },
  "vscode": {
   "interpreter": {
    "hash": "9ada32eea83c06c6418fd9dacb5580edb909b082032d188eabcfd6a2b68a7cd7"
   }
  }
 },
 "nbformat": 4,
 "nbformat_minor": 5
}
